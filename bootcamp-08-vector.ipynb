{
 "cells": [
  {
   "cell_type": "markdown",
   "metadata": {},
   "source": [
    "<img style=\"float: left;\" src=\"earth-lab-logo-rgb.png\" width=\"150\" height=\"150\" />\n",
    "\n",
    "# Earth Analytics Education"
   ]
  },
  {
   "cell_type": "markdown",
   "metadata": {},
   "source": [
    "## Important  - Assignment Guidelines\n",
    "\n",
    "1. Before you submit your assignment to GitHub, make sure to run the entire notebook with a fresh kernel. To do this first, **restart the kernel** (in the menubar, select Kernel$\\rightarrow$Restart & Run All)\n",
    "2. Always replace the `raise NotImplementedError()` code with your code that addresses the activity challenge. If you don't replace that code, your notebook will not run.\n",
    "\n",
    "```\n",
    "# YOUR CODE HERE\n",
    "raise NotImplementedError()\n",
    "```\n",
    "\n",
    "3. Any open ended questions will have a \"YOUR ANSWER HERE\" within a markdown cell. Replace that text with your answer also formatted using Markdown.\n",
    "4. **DO NOT RENAME THIS NOTEBOOK File!** If the file name changes, the autograder will not grade your assignment properly.\n",
    "\n",
    "* Only include the package imports, code, and outputs that are required to run your homework assignment.\n",
    "* Be sure that your code can be run on any operating system. This means that:\n",
    "   1. the data should be downloaded in the notebook to ensure it's reproducible\n",
    "   2. all paths should be created dynamically using the `os.path.join`\n",
    "   3. sort lists of dated files even if they are sorted correctly by default on your machine\n",
    "\n",
    "## Follow to PEP 8 Syntax Guidelines & Documentation\n",
    "\n",
    "* Run the `autopep8` tool on all cells prior to submitting (HINT: hit shift + the tool to run it on all cells at once!\n",
    "* Use clear and expressive names for variables. \n",
    "* Organize your code to support readability.\n",
    "* Check for code line length\n",
    "* Use comments and white space sparingly where it is needed\n",
    "* Make sure all python imports are at the top of your notebook and follow PEP 8 order conventions\n",
    "* Spell check your Notebook before submitting it.\n",
    "\n",
    "For all of the plots below, be sure to do the following:\n",
    "\n",
    "* Make sure each plot has a clear TITLE and, where appropriate, label the x and y axes. Be sure to include UNITS in your labels.\n"
   ]
  },
  {
   "cell_type": "markdown",
   "metadata": {},
   "source": [
    "### Add Your Name Below \n",
    "**Your Name:**"
   ]
  },
  {
   "cell_type": "markdown",
   "metadata": {},
   "source": [
    "<img style=\"float: left;\" src=\"colored-bar.png\"/>"
   ]
  },
  {
   "cell_type": "markdown",
   "metadata": {},
   "source": [
    "---"
   ]
  },
  {
   "cell_type": "markdown",
   "metadata": {
    "deletable": false,
    "editable": false,
    "nbgrader": {
     "cell_type": "markdown",
     "checksum": "c99e97084d807b34851da3fbcc594546",
     "grade": false,
     "grade_id": "hw-instructions",
     "locked": true,
     "schema_version": 3,
     "solution": false,
     "task": false
    }
   },
   "source": [
    "# Spatial Vector Data in Python: Mapping the San Joaquin Experimental Range\n",
    "\n",
    "In this assignment, you will create maps using vector data (shapefiles). You can download most of the data using the `'spatial-vector-lidar'` `earthpy` data subset. You will be given instructions for downloading the remaining data from [Natural Earth Data](https://www.naturalearthdata.com/). \n",
    "\n",
    "Some of the maps are of an area in California called the [San Joaquin Experimental Range](https://www.neonscience.org/field-sites/field-sites-map/SJER) known by the acronym SJER. [Access spatial data about NEON sites and sampling locations here](https://www.neonscience.org/data-samples/data/spatial-data-maps).\n",
    "\n",
    "You will also create a global population *chloropleth* map. In this type of visualization, areas on the map will be colored according to their population value.\n",
    "\n",
    "The road, boundary, and population data for all the maps comes from Natural Earth Data. Much of this has been downloaded for you, but you will download one dataset yourself."
   ]
  },
  {
   "cell_type": "markdown",
   "metadata": {
    "deletable": false,
    "editable": false,
    "nbgrader": {
     "cell_type": "markdown",
     "checksum": "636986efff68bec56de6b3ebf8b3dffb",
     "grade": false,
     "grade_id": "cell-c917b19c3db0c320",
     "locked": true,
     "points": 4,
     "schema_version": 3,
     "solution": false,
     "task": true
    }
   },
   "source": [
    "## Data Citation\n",
    "\n",
    "Look through the Natural Earth Data and NEON Spatial Data Maps websites above and cite the data as recommended by those organizations, or in an APA style. "
   ]
  },
  {
   "cell_type": "markdown",
   "metadata": {},
   "source": []
  },
  {
   "cell_type": "markdown",
   "metadata": {
    "deletable": false,
    "editable": false,
    "nbgrader": {
     "cell_type": "markdown",
     "checksum": "d27eee2ae6c5e57e229d40839c7688e6",
     "grade": false,
     "grade_id": "cell-7df78202bebeacae",
     "locked": true,
     "points": 5,
     "schema_version": 3,
     "solution": false,
     "task": true
    }
   },
   "source": [
    "## Set up your analysis\n",
    "\n",
    "The data that you will use for this week is mostly available from **earthpy** using the following download: \n",
    "\n",
    "`et.data.get_data('spatial-vector-lidar')`\n",
    "\n",
    "The country data is missing from the earthpy download, so you will need to download it separately, by using \n",
    "\n",
    "`earthpy.data.get_data(url=url)`\n",
    "\n",
    "The url to download country data is:\n",
    "\n",
    "`https://naturalearth.s3.amazonaws.com/110m_cultural/ne_110m_admin_0_countries.zip`\n",
    "\n",
    "> This is NOT an official API; we reverse-engineered the Amazon Web Services hosted url from other packages that download Natural Earth Data. If you use Natural Earth Data in your own analysis, you may need to download it and host it yourself, or do a bit of detective work like we did. In general, if you are repeatedly downloading the same data (as in hundreds of times close together) it is polite to check in with the hosting service about how the would like you to manage the data downloads. Official APIs usually have  rules about how to use their services, which they enforce through the use of tokens. Try not to abuse the openness of Natural Earth Data by setting up many automatic downloads. For example, geopandas will read directly from the url, which is a nice feature, but it does not cache by default. That's why we're using earthpy, which caches automatically. Another way you could trigger lots of downloads is by running `timeit` on a cell that does the download without caching.\n",
    "\n",
    "In the cell below the autograding imports:\n",
    "  1. Add all of the needed package imports - You will need the `geopandas` package, as well as a couple of others that you've used in the past.\n",
    "  2. Download the data\n",
    "  3. Set your working directory:\n",
    "    * Use a conditional to ensure that this code will run correctly whether or not your chosen working directory exists\n",
    "    * You can choose whatever working directory works best for the analysis, but it must be reproducible on any platform. "
   ]
  },
  {
   "cell_type": "code",
   "execution_count": null,
   "metadata": {
    "deletable": false,
    "editable": false,
    "nbgrader": {
     "cell_type": "code",
     "checksum": "af653e76c7c9557df7f0ef449cc9fd4a",
     "grade": false,
     "grade_id": "core-imports",
     "locked": true,
     "schema_version": 3,
     "solution": false,
     "task": false
    }
   },
   "outputs": [],
   "source": [
    "# Autograding imports - do not modify this cell\n",
    "import numpy as np\n",
    "import pandas as pd\n",
    "\n",
    "# This will hide one of geopandas warnings in cell 3\n",
    "import warnings\n",
    "warnings.filterwarnings('ignore',\n",
    "                        'GeoSeries.notna',\n",
    "                        UserWarning)"
   ]
  },
  {
   "cell_type": "code",
   "execution_count": null,
   "metadata": {
    "deletable": false,
    "nbgrader": {
     "cell_type": "code",
     "checksum": "4c85344ebbcb212c7d7575f9758b780d",
     "grade": false,
     "grade_id": "student-imports-answer",
     "locked": false,
     "schema_version": 3,
     "solution": true,
     "task": false
    },
    "tags": [
     "hide"
    ]
   },
   "outputs": [],
   "source": [
    "# Import packages, download data, and set working directory here\n",
    "\n",
    "# YOUR CODE HERE\n",
    "raise NotImplementedError()"
   ]
  },
  {
   "cell_type": "markdown",
   "metadata": {
    "deletable": false,
    "editable": false,
    "nbgrader": {
     "cell_type": "markdown",
     "checksum": "9155561cc77afd29e09904c4f09d85a2",
     "grade": false,
     "grade_id": "challenge-1a-instructions",
     "locked": true,
     "schema_version": 3,
     "solution": false,
     "task": false
    }
   },
   "source": [
    "\n",
    "## Challenge 1a: Open And Clip Your Vector Data\n",
    "\n",
    "The NEON **SJER** field site is located in California. Your first task is to explore the area by creating a map of California roads that has symbology that represents different road types.\n",
    "\n",
    "### Open the roads layer and clip it using the SJER_crop extent\n",
    "\n",
    "In the cell below:\n",
    "\n",
    "1. Open the `california/madera-county-roads/tl_2013_06039_roads.shp` file located in your `spatial-vector-lidar` data download using GeoPandas. \n",
    "2. Reproject the roads data to be the same CRS as the area of interest. They should both have the CRS of `EPSG:32611`.\n",
    "3. Clip the data using the SJER boundary (`california/neon-sjer-site/vector_data/SJER_crop.shp`) layer. \n",
    "4. Open the SJER plot locations data (`california/neon-sjer-site/vector_data/SJER_plot_centroids.shp`). \n",
    "5. Set all `RTTYP` that are \"none\" to \"Unknown\" using the syntax: `roads-object-name[\"RTTYP\"].fillna(\"Unknown\", inplace=True)`\n",
    "\n",
    "Call the **clipped and reprojected roads shapefile geodataframe object** at the \n",
    "end of the cell to ensure the tests below run.\n"
   ]
  },
  {
   "cell_type": "code",
   "execution_count": null,
   "metadata": {
    "deletable": false,
    "nbgrader": {
     "cell_type": "code",
     "checksum": "eca8526759758d4d32bd2564d1fc7ed1",
     "grade": false,
     "grade_id": "initial-clip-solution",
     "locked": false,
     "schema_version": 3,
     "solution": true,
     "task": false
    }
   },
   "outputs": [],
   "source": [
    "# YOUR CODE HERE\n",
    "raise NotImplementedError()"
   ]
  },
  {
   "cell_type": "code",
   "execution_count": null,
   "metadata": {
    "deletable": false,
    "editable": false,
    "nbgrader": {
     "cell_type": "code",
     "checksum": "2af03eba855ee9fd5520088fe6b23398",
     "grade": true,
     "grade_id": "initial-clip-tests",
     "locked": true,
     "points": 5,
     "schema_version": 3,
     "solution": false,
     "task": false
    }
   },
   "outputs": [],
   "source": [
    "# DO NOT MODIFY THIS CELL\n",
    "student_sjer_roads_clip = _\n",
    "initial_clip_points = 0\n",
    "\n",
    "if isinstance(student_sjer_roads_clip, gpd.geodataframe.GeoDataFrame):\n",
    "    print(\"\\u2705 Great! Your clipped object is a GeoDataFrame!\")\n",
    "    initial_clip_points += 1\n",
    "else:\n",
    "    print(\"\\u274C Oops, your clipped object is not a GeoDataFrame.\")\n",
    "\n",
    "if student_sjer_roads_clip.crs == 'epsg:32611':\n",
    "    print(\"\\u2705 Great! Your clipped object has the correct CRS!\")\n",
    "    initial_clip_points += 2\n",
    "else:\n",
    "    print(\"\\u274C Oops, your clipped object does not have the correct \"\n",
    "          \"CRS.\")\n",
    "    \n",
    "total_bounds_student = [\n",
    "    round(b, 2) for b in student_sjer_roads_clip.total_bounds]\n",
    "total_bounds_ans = [254570.57, 4107303.08, 258867.41, 4112361.92]\n",
    "if total_bounds_student == total_bounds_ans:\n",
    "    print(\"\\u2705 Great! Your clipped object has the correct extent.\")\n",
    "    initial_clip_points += 2\n",
    "else:\n",
    "    print(\"\\u274C Oops, your clipped object does not have the correct extent\")\n",
    "\n",
    "print(\"\\n \\u27A1 You received {} out of 5 points.\".format(\n",
    "    initial_clip_points))\n",
    "\n",
    "initial_clip_points"
   ]
  },
  {
   "cell_type": "markdown",
   "metadata": {
    "deletable": false,
    "editable": false,
    "nbgrader": {
     "cell_type": "markdown",
     "checksum": "f6ed6ac26ca75ca769507e55b627f448",
     "grade": false,
     "grade_id": "challenge-1b-instructions",
     "locked": true,
     "points": 15,
     "schema_version": 3,
     "solution": false,
     "task": true
    }
   },
   "source": [
    "## Challenge 1b: Create a Figure Of the SJER Study Area\n",
    "\n",
    "In the cell below, add code to create your challenge figure using the \n",
    "objects that you generated above.\n",
    "\n",
    "Create a map that shows the madera roads layer, SJER plot locations and the SJER boundary (`california/neon-sjer-site/vector_data/SJER_crop.shp`). All data should be cropped to your\n",
    "SJER boundary crop extent (your Area Of Interest or AOI)\n",
    "\n",
    "### Important Notes For Your Figure\n",
    "\n",
    "1. Plot the roads so different **road types** are represented using unique symbology using the `RTTYP` attribute. Use a `for loop` to eliminate repetition in your code.\n",
    "2. Add the plot locations to your map. Color each location according to the attribute **plot type** using unique symbology for each `plot_type` in the data. Use a `for loop` to eliminate repetition in your code.\n",
    "3. Add a **title** to your figure.\n",
    "4. Be sure that your plot legend is not covering your final map.\n",
    "5. **IMPORTANT:** be sure that all of the data are cropped to the **same spatial extent** and **crs**. You should have done this in the previous cell, but make sure to double-check if you are having trouble plotting."
   ]
  },
  {
   "cell_type": "code",
   "execution_count": null,
   "metadata": {
    "deletable": false,
    "nbgrader": {
     "cell_type": "code",
     "checksum": "bbb512f23920f582bd40cb74388725d8",
     "grade": false,
     "grade_id": "challenge-1-plot-answer",
     "locked": false,
     "schema_version": 3,
     "solution": true,
     "task": false
    },
    "tags": [
     "hide"
    ]
   },
   "outputs": [],
   "source": [
    "# YOUR CODE HERE\n",
    "raise NotImplementedError()"
   ]
  },
  {
   "cell_type": "markdown",
   "metadata": {
    "deletable": false,
    "editable": false,
    "nbgrader": {
     "cell_type": "markdown",
     "checksum": "f9a8756268a1971b8d28668d498c08c2",
     "grade": false,
     "grade_id": "challenge-1-question-1",
     "locked": true,
     "points": 5,
     "schema_version": 3,
     "solution": false,
     "task": true
    }
   },
   "source": [
    "## Take a look at the metadata\n",
    "\n",
    "What does the RTTYP road type acronyms **M** and **S** stand for? \n",
    "Please your answer in the markdown cell BELOW. Use the `tl_2013_06039_roads.shp.xml` file in your data download to help you figure out the answer to this question\n"
   ]
  },
  {
   "cell_type": "markdown",
   "metadata": {},
   "source": []
  },
  {
   "cell_type": "markdown",
   "metadata": {
    "deletable": false,
    "editable": false,
    "nbgrader": {
     "cell_type": "markdown",
     "checksum": "9a15bfa293ebd0204c7458fa0b89379e",
     "grade": false,
     "grade_id": "challenge-2-instructions",
     "locked": true,
     "schema_version": 3,
     "solution": false,
     "task": false
    }
   },
   "source": [
    "## Challenge 2: Figure 2 - Roads in Del Norte, Modoc & Siskiyou Counties\n",
    "\n",
    "Create a plot of roads that are located in: Del Norte, Modoc & Siskiyou Counties. To do this, you will need the following layers:\n",
    "\n",
    "* Counties in California: `california/CA_Counties/CA_Counties_TIGER2016.shp`\n",
    "* Roads: `spatial-vector-lidar/global/ne_10m_roads/ne_10m_roads.shp` \n",
    "\n",
    "To create this plot, you will need to:\n",
    "\n",
    "1. Reproject the roads and the county data to `epsg=5070`\n",
    "2. Select the three counties that you want to work with in the counties dataset. One fast way to do this is using syntax as follows: \n",
    "\n",
    "`roads_df[roads_df['NAME'].isin([\"Siskiyou\", \"Modoc\", \"Del Norte\"])]`\n",
    "\n",
    "3. Clip the roads data to the boundary of the counties that you wish to look at.\n",
    "4. Assign each road segment an attribute that identifies it as within each county.\n",
    "\n",
    "Color the roads in each county using a unique color.\n",
    "\n",
    "HINT: use the `legend=True` argument in `.plot()` to create a legend.\n",
    "Because you are only creating a legend for one layer, you can quickly use `.plot()`\n",
    "rather than `ax.legend()` which is what you used to create the figure above.\n",
    "\n",
    "\n",
    "### IMPORTANT: \n",
    "\n",
    "* Both layers need to the in the SAME coordinate reference system for you to work with them together. REPROJECT both data layers to albers `.to_crs(epsg=5070)`\n",
    "* Clip the roads to the boundary of the three_counties layer that you created which only contains the 3 selected counties: `\"Siskiyou\", \"Modoc\", \"Del Norte\"`\n",
    "* To assign each road to its respective county, you will perform a spatial join using `.sjoin()`.\n",
    "* You will need to redefine the CRS of the roads layer, after the clip, which you can do using something like:\n",
    "\n",
    "```county_roads.crs = ca_cty_albers.crs```"
   ]
  },
  {
   "cell_type": "markdown",
   "metadata": {
    "deletable": false,
    "editable": false,
    "nbgrader": {
     "cell_type": "markdown",
     "checksum": "cc91a19ee012c0fb7308ce92738d41c3",
     "grade": false,
     "grade_id": "challenge-2-instructions-1-2",
     "locked": true,
     "schema_version": 3,
     "solution": false,
     "task": false
    }
   },
   "source": [
    "In the cell below, add the code needed to \n",
    "\n",
    "* Open each layer\n",
    "* Reproject the data \n",
    "* Clip and subset the data \n",
    "\n",
    "At the end of the cell, be sure to call the clipped roads layer."
   ]
  },
  {
   "cell_type": "code",
   "execution_count": null,
   "metadata": {
    "deletable": false,
    "nbgrader": {
     "cell_type": "code",
     "checksum": "6a89b2ebd07249679e0dd59261ca7501",
     "grade": false,
     "grade_id": "challenge-2-answer",
     "locked": false,
     "schema_version": 3,
     "solution": true,
     "task": false
    }
   },
   "outputs": [],
   "source": [
    "# In this cell, add the code needed to open, reproject and clip / subset the data\n",
    "\n",
    "# YOUR CODE HERE\n",
    "raise NotImplementedError()"
   ]
  },
  {
   "cell_type": "code",
   "execution_count": null,
   "metadata": {
    "deletable": false,
    "editable": false,
    "nbgrader": {
     "cell_type": "code",
     "checksum": "c398317d100ac2ff53d150f6a59d5c9d",
     "grade": true,
     "grade_id": "challenge-2-tests",
     "locked": true,
     "points": 5,
     "schema_version": 3,
     "solution": false,
     "task": false
    }
   },
   "outputs": [],
   "source": [
    "student_three_counties = _\n",
    "answer_total_bounds = [-2292272.17, 2271444.08, -1965771.03, 2452647.92]\n",
    "three_counties_points = 0\n",
    "\n",
    "if isinstance(student_three_counties, gpd.geodataframe.GeoDataFrame):\n",
    "    print(\"\\u2705 Great! Your clipped object is a GeoDataFrame!\")\n",
    "    three_counties_points += 1\n",
    "else:\n",
    "    print(\"\\u274C Oops, your clipped object is not a GeoDataFrame.\")\n",
    "\n",
    "if student_three_counties.crs.to_epsg() == 5070:\n",
    "    print(\"\\u2705 Great! Your clipped object has the correct CRS!\")\n",
    "    three_counties_points += 2\n",
    "else:\n",
    "    print(\"\\u274C Oops, your clipped object does not have the \"\n",
    "          \"correct CRS.\")\n",
    "    \n",
    "student_total_bounds = [\n",
    "    round(b, 2) for b in student_three_counties.total_bounds]\n",
    "if student_total_bounds == answer_total_bounds:\n",
    "    print(\"\\u2705 Great! Your clipped object has the correct extent.\")\n",
    "    three_counties_points += 2\n",
    "else:\n",
    "    print(\"\\u274C Oops, your clipped object does not have the correct \"\n",
    "          \"extent\")\n",
    "\n",
    "print(\"\\n \\u27A1 You received {} out of 5 points.\"\n",
    "      .format(three_counties_points))\n",
    "\n",
    "three_counties_points"
   ]
  },
  {
   "cell_type": "markdown",
   "metadata": {
    "deletable": false,
    "editable": false,
    "nbgrader": {
     "cell_type": "markdown",
     "checksum": "a00a7c99f12e14a9fe471db0dae83bc8",
     "grade": false,
     "grade_id": "challenge-2-instructions-2",
     "locked": true,
     "points": 15,
     "schema_version": 3,
     "solution": false,
     "task": true
    }
   },
   "source": [
    "## Challenge 2b: Figure\n",
    "\n",
    "In the cell below,  add code to create the figure described above.\n"
   ]
  },
  {
   "cell_type": "code",
   "execution_count": null,
   "metadata": {
    "caption": "Map showing the roads layer clipped to the three counties and colored according to which county the road is in.",
    "deletable": false,
    "nbgrader": {
     "cell_type": "code",
     "checksum": "636222f165b755cc0b8f83b117c63cfc",
     "grade": false,
     "grade_id": "challenge-2-plot",
     "locked": false,
     "schema_version": 3,
     "solution": true,
     "task": false
    },
    "tags": [
     "hide"
    ]
   },
   "outputs": [],
   "source": [
    "# Figure 2 - Place only the code required to plot your data here\n",
    "# Additional processing code can go above this code cell\n",
    "\n",
    "# YOUR CODE HERE\n",
    "raise NotImplementedError()"
   ]
  },
  {
   "cell_type": "markdown",
   "metadata": {
    "deletable": false,
    "editable": false,
    "nbgrader": {
     "cell_type": "markdown",
     "checksum": "c0207728db72a08bca157213f7a625bd",
     "grade": false,
     "grade_id": "challenge-3-instructions",
     "locked": true,
     "schema_version": 3,
     "solution": false,
     "task": false
    }
   },
   "source": [
    "## Challenge 3:  Calculate Total Length of Road Siskiyou, Modoc, Del Norte County in California\n",
    "\n",
    "Create a dataframe that shows the total length of road in these counties used in plot 2: Siskiyou, Modoc, and Del Norte. To calculate this, use the data you created for plot 2.\n",
    "\n",
    "To calculate length of each line in your geodataframe, you can use the syntax `gdf.length`. Create a new column **named length** using the syntax:\n",
    "\n",
    "`gdf[\"length\"] = gdf.length`\n",
    "\n",
    "You can summarize the data to calculate total length using pandas `.groupby()` on the county column name.\n",
    "\n",
    "Note: you can use: `pd.options.display.float_format = '{:.4f}'.format` if you'd like to turn off scientific notation for your outputs.\n",
    "\n",
    "It should look something like this:\n",
    "\n",
    "\n",
    "||length|\n",
    "|----|----|\n",
    "|NAME|| \n",
    "|Del Norte| road length here|\n",
    "|Modoc| road length here|\n",
    "|Siskiyou| road length here|\n",
    "\n",
    "\n",
    "At the end of the cell, call the dataframe object"
   ]
  },
  {
   "cell_type": "code",
   "execution_count": null,
   "metadata": {
    "deletable": false,
    "nbgrader": {
     "cell_type": "code",
     "checksum": "62a627696ff27d7562f50a7cb0c82856",
     "grade": false,
     "grade_id": "challenge-3-answer",
     "locked": false,
     "schema_version": 3,
     "solution": true,
     "task": false
    },
    "tags": [
     "hide"
    ]
   },
   "outputs": [],
   "source": [
    "# TABLE 1 - Place the code required to create the dataframe\n",
    "\n",
    "# YOUR CODE HERE\n",
    "raise NotImplementedError()"
   ]
  },
  {
   "cell_type": "code",
   "execution_count": null,
   "metadata": {
    "deletable": false,
    "editable": false,
    "nbgrader": {
     "cell_type": "code",
     "checksum": "7ed84bff9d4698fb5da474a4bf22228f",
     "grade": true,
     "grade_id": "challenge-3-tests-visible",
     "locked": true,
     "points": 10,
     "schema_version": 3,
     "solution": false,
     "task": false
    }
   },
   "outputs": [],
   "source": [
    "# DO NOT MODIFY THIS CELL\n",
    "# Test that the cali_roads_summary is of type dataframe and named correctly\n",
    "\n",
    "# Let's make sure you created an object with the correct name and of the correct type above!\n",
    "\n",
    "student_length_dataframe = _\n",
    "\n",
    "length_points = 0\n",
    "\n",
    "if len(student_length_dataframe) == 3:\n",
    "    print(\"\\u2705 Correct number of entries in the dataframe, good job!\")\n",
    "    length_points += 2\n",
    "else:\n",
    "    print(\"\\u274C Incorrect amount of entries in the dataframe.\")\n",
    "\n",
    "if student_length_dataframe.length.dtype == 'float':\n",
    "    print(\"\\u2705 Length column has the correct datatype!\")\n",
    "    length_points += 2\n",
    "else:\n",
    "    print(\"\\u274C Length column does not have the correct datetype.\")\n",
    "    \n",
    "if round(student_length_dataframe.length.sum(), 2) == 838764.66:\n",
    "    length_points += 6\n",
    "    print(\"\\u2705 Great! The summary roads data are correct!\")\n",
    "else:\n",
    "    print(\"\\u274C Oops, the roads summary data are not correct.\")\n",
    "\n",
    "print(\"\\n \\u27A1 You received {} out of 10 points.\".format(\n",
    "    length_points))\n",
    "length_points"
   ]
  },
  {
   "cell_type": "markdown",
   "metadata": {
    "deletable": false,
    "editable": false,
    "nbgrader": {
     "cell_type": "markdown",
     "checksum": "365069bd00f7f28c7b088161bc9895a6",
     "grade": false,
     "grade_id": "challenge-4-instructions",
     "locked": true,
     "schema_version": 3,
     "solution": false,
     "task": false
    }
   },
   "source": [
    "## Challenge 4: Plot 3 - Global  Estimated Population \n",
    "\n",
    "Create a plot of quantile maps of the sum of global estimated population by region. To do this, you will use the  natural earth data of global political boundaries. You should have downloaded the country data from Natural Earth Data above.\n",
    "\n",
    "Preprocess your data by: \n",
    "  1. Open up the Natural Earth data using `gpd.read_file()`\n",
    "  2. Subset the data to include the following columns: `[\"REGION_WB\", \"POP_EST\", 'geometry']`\n",
    "  3. Dissolve the data by region (`REGION_WB`) column and aggregate by `sum`. \n",
    "      * HINT: you can provide the aggfunc= argument with a `[list]` of function names in quotes and it will summarize numeric columns using each function.\n",
    "    \n",
    "Call your final dissolved `GeoDataFrame` at the end of the cell."
   ]
  },
  {
   "cell_type": "code",
   "execution_count": null,
   "metadata": {
    "deletable": false,
    "nbgrader": {
     "cell_type": "code",
     "checksum": "cd75e0a0ee9494520722a9ad327b4408",
     "grade": false,
     "grade_id": "challenge-4-answer",
     "locked": false,
     "schema_version": 3,
     "solution": true,
     "task": false
    }
   },
   "outputs": [],
   "source": [
    "# YOUR CODE HERE\n",
    "raise NotImplementedError()"
   ]
  },
  {
   "cell_type": "code",
   "execution_count": null,
   "metadata": {
    "deletable": false,
    "editable": false,
    "nbgrader": {
     "cell_type": "code",
     "checksum": "66c9b7851ea3f0eb60184dd71c65655e",
     "grade": true,
     "grade_id": "challenge-4-tests",
     "locked": true,
     "points": 10,
     "schema_version": 3,
     "solution": false,
     "task": false
    }
   },
   "outputs": [],
   "source": [
    "# DO NOT MODIFY THIS CELL\n",
    "student_dissolve_dataframe = _\n",
    "\n",
    "dissolve_points = 0\n",
    "\n",
    "if len(student_dissolve_dataframe) == 8:\n",
    "    print(\"\\u2705 Correct number of entries in the dataframe, good job!\")\n",
    "    dissolve_points += 3\n",
    "else:\n",
    "    print(\"\\u274C Incorrect amount of entries in the dataframe.\")\n",
    "\n",
    "if isinstance(student_dissolve_dataframe, gpd.GeoDataFrame):\n",
    "    print(\"\\u2705 Data is stored in a GeoDataFrame, good job!\")\n",
    "    dissolve_points += 2\n",
    "else:\n",
    "    print(\"\\u274C Data is not stored in a GeoDataFrame.\")\n",
    "\n",
    "if round(student_dissolve_dataframe.POP_EST.mean(), 0) == 956761503:\n",
    "    print(\"\\u2705 Correct population values, good job!\")\n",
    "    dissolve_points += 5\n",
    "else:\n",
    "    print(\"\\u274C Data does not have the correct values.\")\n",
    "    \n",
    "print(\"\\n \\u27A1 You received {} out of 10 points.\".format(\n",
    "    dissolve_points))\n",
    "dissolve_points"
   ]
  },
  {
   "cell_type": "markdown",
   "metadata": {
    "deletable": false,
    "editable": false,
    "nbgrader": {
     "cell_type": "markdown",
     "checksum": "ee24f0a078972799539a9f32dc559ffe",
     "grade": false,
     "grade_id": "cell-a6d0dba75dbadfee",
     "locked": true,
     "points": 15,
     "schema_version": 3,
     "solution": false,
     "task": true
    }
   },
   "source": [
    "## Create a chloropleth plot of population by region\n",
    "\n",
    "You can control which value is represented by the color scale using the `column` parameter of the GeoDataFrame.plot() method.\n",
    "\n",
    "Check out the [geopandas User Guide](https://geopandas.org/en/stable/docs/user_guide/mapping.html) for more details on making this *exact* plot.\n"
   ]
  },
  {
   "cell_type": "code",
   "execution_count": null,
   "metadata": {
    "deletable": false,
    "nbgrader": {
     "cell_type": "code",
     "checksum": "78124d022a509625d37a5fb5ad5b0cbf",
     "grade": false,
     "grade_id": "challenge-4-plot",
     "locked": false,
     "schema_version": 3,
     "solution": true,
     "task": false
    }
   },
   "outputs": [],
   "source": [
    "# PLOT 3 - Place only the code required to plot your data here\n",
    "# Additional processing code can go above this code cell\n",
    "\n",
    "# YOUR CODE HERE\n",
    "raise NotImplementedError()"
   ]
  },
  {
   "cell_type": "markdown",
   "metadata": {
    "deletable": false,
    "editable": false,
    "nbgrader": {
     "cell_type": "markdown",
     "checksum": "e1194afb79e1dbdd538d449b2724caf3",
     "grade": false,
     "grade_id": "pep8-grading",
     "locked": true,
     "points": 10,
     "schema_version": 3,
     "solution": false,
     "task": true
    }
   },
   "source": [
    "## Do not modify this cell (10 points)\n",
    "\n",
    "* Here we will grade pep8 format and imports listed at the top following pep 8 conventions.\n",
    "* Notebook begins with cell [1] and runs without modifications. \n",
    "* Be sure that your code can be run on any operating system. This means that:\n",
    "    * the data should be downloaded in the notebook to ensure it's reproducible\n",
    "    * all paths should be created dynamically using the os package to ensure that they work across operating systems"
   ]
  }
 ],
 "metadata": {
  "anaconda-cloud": {},
  "kernelspec": {
   "display_name": "Python 3 (ipykernel)",
   "language": "python",
   "name": "python3"
  },
  "language_info": {
   "codemirror_mode": {
    "name": "ipython",
    "version": 3
   },
   "file_extension": ".py",
   "mimetype": "text/x-python",
   "name": "python",
   "nbconvert_exporter": "python",
   "pygments_lexer": "ipython3",
   "version": "3.8.12"
  },
  "toc": {
   "base_numbering": 1,
   "nav_menu": {},
   "number_sections": true,
   "sideBar": true,
   "skip_h1_title": false,
   "title_cell": "Table of Contents",
   "title_sidebar": "Contents",
   "toc_cell": false,
   "toc_position": {},
   "toc_section_display": true,
   "toc_window_display": true
  },
  "varInspector": {
   "cols": {
    "lenName": 16,
    "lenType": 16,
    "lenVar": 40
   },
   "kernels_config": {
    "python": {
     "delete_cmd_postfix": "",
     "delete_cmd_prefix": "del ",
     "library": "var_list.py",
     "varRefreshCmd": "print(var_dic_list())"
    },
    "r": {
     "delete_cmd_postfix": ") ",
     "delete_cmd_prefix": "rm(",
     "library": "var_list.r",
     "varRefreshCmd": "cat(var_dic_list()) "
    }
   },
   "types_to_exclude": [
    "module",
    "function",
    "builtin_function_or_method",
    "instance",
    "_Feature"
   ],
   "window_display": false
  }
 },
 "nbformat": 4,
 "nbformat_minor": 2
}
